{
 "cells": [
  {
   "cell_type": "code",
   "execution_count": 1,
   "id": "73c32ec4",
   "metadata": {},
   "outputs": [],
   "source": [
    "from tqdm import tqdm\n",
    "from nltk.corpus import stopwords\n",
    "from nltk.stem import WordNetLemmatizer\n",
    "import os\n",
    "import numpy as np"
   ]
  },
  {
   "cell_type": "code",
   "execution_count": 2,
   "id": "4fa58c25",
   "metadata": {},
   "outputs": [],
   "source": [
    "def get_graphs(path_abs, label):\n",
    "    print(os.getcwd())\n",
    "    \n",
    "    os.chdir(path_abs)\n",
    "\n",
    "    stop_words = set(stopwords.words('portuguese')) \n",
    "    lemmatizer = WordNetLemmatizer()\n",
    "    number_of_files = 3500\n",
    "    graphs, y = [], []\n",
    "    \n",
    "    print(path_abs)\n",
    "    \n",
    "    for k in tqdm(range(0, number_of_files)):\n",
    "\n",
    "        sentences = []\n",
    "        vertex = dict()\n",
    "        N = 1\n",
    "\n",
    "        path = str(k) + '.txt'\n",
    "        \n",
    "        try:\n",
    "            with open(path,'r') as f:\n",
    "                for line in f:\n",
    "                    for word in line.split():\n",
    "                        word = word.lower()\n",
    "                        if word not in stop_words:\n",
    "                            word = lemmatizer.lemmatize(word)\n",
    "                            sentences.append(word)\n",
    "                            if word not in vertex:\n",
    "                                vertex[word] = N \n",
    "                                N += 1\n",
    "\n",
    "            g = [[0 for x in range(N)] for y in range(N)] \n",
    "\n",
    "            for i in range(0, len(sentences)):\n",
    "                for j in range(i + 1, min(len(sentences), i + 3)):\n",
    "\n",
    "                    u = vertex[ sentences[i] ]\n",
    "                    v = vertex[ sentences[j] ]\n",
    "                    g[u][v] = 1\n",
    "                    g[v][u] = 1\n",
    "\n",
    "            graphs.append(g.copy())\n",
    "            y.append(label)\n",
    "\n",
    "        except FileNotFoundError:\n",
    "            pass\n",
    "        \n",
    "    os.chdir('../../../')\n",
    "\n",
    "    return graphs, y"
   ]
  },
  {
   "cell_type": "code",
   "execution_count": 3,
   "id": "74732777",
   "metadata": {},
   "outputs": [],
   "source": [
    "def graph_of_words(flag):\n",
    "\n",
    "    graphs, label = [], []\n",
    "\n",
    "    if flag == False:\n",
    "        path = 'Fake.br-Corpus/size_normalized_texts/'\n",
    "    else:\n",
    "        path = 'Fake.br-Corpus/full_texts/'\n",
    "\n",
    "    print('Generating Graphs of the true news')\n",
    "    g_true, y_true = get_graphs(path + 'true/', 1)\n",
    "\n",
    "    print('Generating Graphs of the fake news')\n",
    "    g_fake, y_fake = get_graphs(path + 'fake/', 0)\n",
    "\n",
    "    print(len(g_true))\n",
    "    print(len(y_true))\n",
    "    print(len(g_fake))\n",
    "    print(len(y_fake))\n",
    "    \n",
    "    g = [*g_true, *g_fake]\n",
    "    y = [*y_true, *y_fake]\n",
    "    \n",
    "    return g, y"
   ]
  },
  {
   "cell_type": "code",
   "execution_count": 4,
   "id": "6fb29de0",
   "metadata": {},
   "outputs": [
    {
     "name": "stdout",
     "output_type": "stream",
     "text": [
      "Generating Graphs of the true news\n",
      "/home/matheus/Documents/Fundamentals of Data Analysis/projeto/Machine-Learning-with-Graphs/FakeNewsDetection\n",
      "Fake.br-Corpus/size_normalized_texts/true/\n"
     ]
    },
    {
     "name": "stderr",
     "output_type": "stream",
     "text": [
      "100%|██████████████████████████████████████| 3500/3500 [00:04<00:00, 803.36it/s]\n"
     ]
    },
    {
     "name": "stdout",
     "output_type": "stream",
     "text": [
      "Generating Graphs of the fake news\n",
      "/home/matheus/Documents/Fundamentals of Data Analysis/projeto/Machine-Learning-with-Graphs/FakeNewsDetection\n",
      "Fake.br-Corpus/size_normalized_texts/fake/\n"
     ]
    },
    {
     "name": "stderr",
     "output_type": "stream",
     "text": [
      "100%|█████████████████████████████████████| 3500/3500 [00:03<00:00, 1108.22it/s]"
     ]
    },
    {
     "name": "stdout",
     "output_type": "stream",
     "text": [
      "3497\n",
      "3497\n",
      "3497\n",
      "3497\n"
     ]
    },
    {
     "name": "stderr",
     "output_type": "stream",
     "text": [
      "\n"
     ]
    }
   ],
   "source": [
    "g, y = graph_of_words(False)"
   ]
  },
  {
   "cell_type": "code",
   "execution_count": 5,
   "id": "461632ca",
   "metadata": {},
   "outputs": [
    {
     "name": "stdout",
     "output_type": "stream",
     "text": [
      "6994\n",
      "6994\n"
     ]
    }
   ],
   "source": [
    "print(len(g))\n",
    "print(len(y))"
   ]
  },
  {
   "cell_type": "code",
   "execution_count": 6,
   "id": "70996610",
   "metadata": {},
   "outputs": [
    {
     "name": "stderr",
     "output_type": "stream",
     "text": [
      "/home/matheus/.local/lib/python3.9/site-packages/numpy/lib/npyio.py:528: VisibleDeprecationWarning: Creating an ndarray from ragged nested sequences (which is a list-or-tuple of lists-or-tuples-or ndarrays with different lengths or shapes) is deprecated. If you meant to do this, you must specify 'dtype=object' when creating the ndarray.\n",
      "  arr = np.asanyarray(arr)\n"
     ]
    }
   ],
   "source": [
    "with open('graphs.npy', 'wb') as f:\n",
    "    np.save(f, g)\n",
    "with open('labels.npy', 'wb') as f:\n",
    "    np.save(f, y)"
   ]
  },
  {
   "cell_type": "code",
   "execution_count": null,
   "id": "9e859838",
   "metadata": {},
   "outputs": [],
   "source": []
  }
 ],
 "metadata": {
  "kernelspec": {
   "display_name": "Python 3 (ipykernel)",
   "language": "python",
   "name": "python3"
  },
  "language_info": {
   "codemirror_mode": {
    "name": "ipython",
    "version": 3
   },
   "file_extension": ".py",
   "mimetype": "text/x-python",
   "name": "python",
   "nbconvert_exporter": "python",
   "pygments_lexer": "ipython3",
   "version": "3.9.7"
  }
 },
 "nbformat": 4,
 "nbformat_minor": 5
}
