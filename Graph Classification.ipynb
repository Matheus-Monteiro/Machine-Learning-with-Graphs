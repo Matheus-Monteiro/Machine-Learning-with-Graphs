{
 "cells": [
  {
   "cell_type": "markdown",
   "id": "f3ffbbd6",
   "metadata": {},
   "source": [
    "# Classification of graphs with Weisfeiler-Lehman to convert a graph into a feature vector and Support Vector Machine for the classification process"
   ]
  },
  {
   "cell_type": "markdown",
   "id": "f2cf4533",
   "metadata": {},
   "source": [
    "### The used libraries"
   ]
  },
  {
   "cell_type": "code",
   "execution_count": 1,
   "id": "e64d0e82",
   "metadata": {},
   "outputs": [],
   "source": [
    "import networkx as nx\n",
    "import numpy as np\n",
    "from random import seed\n",
    "from random import randint\n",
    "import time\n",
    "from sklearn import svm\n",
    "from sklearn.model_selection import train_test_split\n",
    "from sklearn.metrics import accuracy_score, precision_score, confusion_matrix, ConfusionMatrixDisplay\n",
    "from sklearn import preprocessing"
   ]
  },
  {
   "cell_type": "markdown",
   "id": "a739c8fa",
   "metadata": {},
   "source": [
    "### Setting the seed for random values"
   ]
  },
  {
   "cell_type": "code",
   "execution_count": 2,
   "id": "91e51f31",
   "metadata": {},
   "outputs": [],
   "source": [
    "seed(7)"
   ]
  },
  {
   "cell_type": "markdown",
   "id": "0f3958a0",
   "metadata": {},
   "source": [
    "### The code used to read the graph and save the edge list and graph labels as .npy"
   ]
  },
  {
   "cell_type": "code",
   "execution_count": 3,
   "id": "742c1e1b",
   "metadata": {},
   "outputs": [],
   "source": [
    "# from torch_geometric.datasets import GNNBenchmarkDataset\n",
    "# import numpy as np\n",
    "\n",
    "# def get_graph(data):\n",
    "#   u = data.edge_index[0].tolist()\n",
    "#   v = data.edge_index[1].tolist()\n",
    "#   edges = []\n",
    "#   for i in range(len(u)):\n",
    "#     edges.append([u[i], v[i]])\n",
    "#   return np.array(edges)\n",
    "\n",
    "# dataset = GNNBenchmarkDataset(root = '~/', name = 'CSL')\n",
    "# labels = np.array(dataset.data.y)\n",
    "\n",
    "# graphs = []\n",
    "\n",
    "# for d in dataset:\n",
    "#   graphs.append(get_graph(d))\n",
    "\n",
    "# graphs = np.array(graphs)\n",
    "\n",
    "# with open('graphs.npy', 'wb') as f:\n",
    "#     np.save(f, graphs)\n",
    "# with open('labels.npy', 'wb') as f:\n",
    "#     np.save(f, labels)"
   ]
  },
  {
   "cell_type": "markdown",
   "id": "a301107e",
   "metadata": {},
   "source": [
    "### Read the the .npy files"
   ]
  },
  {
   "cell_type": "code",
   "execution_count": 4,
   "id": "c2041551",
   "metadata": {},
   "outputs": [],
   "source": [
    "with open('graphs.npy', 'rb') as f:\n",
    "    graphs = np.load(f)\n",
    "with open('labels.npy', 'rb') as f:\n",
    "    y = np.load(f) "
   ]
  },
  {
   "cell_type": "markdown",
   "id": "a4d64157",
   "metadata": {},
   "source": [
    "### A method o create a networkx graph from a list of edges"
   ]
  },
  {
   "cell_type": "code",
   "execution_count": 5,
   "id": "6280fad0",
   "metadata": {},
   "outputs": [],
   "source": [
    "def to_networkx(edges):\n",
    "    G = nx.Graph()\n",
    "    for edge in edges:\n",
    "        G.add_edge(edge[0], edge[1])\n",
    "    return G"
   ]
  },
  {
   "cell_type": "markdown",
   "id": "3dee1885",
   "metadata": {},
   "source": [
    "### A method to create a feature vector from a graph with Weisfeiler-Lehman algorithm"
   ]
  },
  {
   "cell_type": "code",
   "execution_count": 6,
   "id": "b272fd7b",
   "metadata": {},
   "outputs": [],
   "source": [
    "def weisfeiler_lehman(G):\n",
    "    label_compression = dict()\n",
    "    bag_of_colors = dict()\n",
    "    number_of_rounds = 2\n",
    "    C = [[0 for i in range(G.number_of_nodes())] for j in range(G.number_of_nodes())]\n",
    "    \n",
    "    # initial coloring of tuples\n",
    "    for v in G.nodes:\n",
    "        for u in G.nodes:\n",
    "            if v == u:\n",
    "                C[v][u] = 2\n",
    "                C[u][v] = 2\n",
    "            elif u in G.neighbors(v):\n",
    "                C[v][u] = 1\n",
    "                C[u][v] = 1\n",
    "    color_count = 3\n",
    " \n",
    "    for r in range(number_of_rounds):\n",
    "        # multiset-label determination and sorting\n",
    "        multiset = []\n",
    "        for v in G.nodes:\n",
    "            for u in G.nodes:\n",
    "                neig_colors = []\n",
    "                for w in G.nodes:\n",
    "                    neig_colors.append(tuple([C[v][w], C[w][u]]))\n",
    "                neig_colors.sort()\n",
    "                multiset.append(neig_colors)\n",
    "                \n",
    "        # label compression\n",
    "        multiset.sort()\n",
    "        for s in multiset:\n",
    "            if tuple(s) not in label_compression.keys():\n",
    "                label_compression[tuple(s)] = color_count\n",
    "                color_count += 1\n",
    "\n",
    "        # relabeling process\n",
    "        old_colors = np.copy(C)\n",
    "        for v in G.nodes:\n",
    "            for u in G.nodes:\n",
    "                neig_colors = []\n",
    "                for w in G.nodes:\n",
    "                    neig_colors.append(tuple([old_colors[v][w], old_colors[w][u]]))\n",
    "                neig_colors.sort()\n",
    "                C[v][u] = label_compression[tuple(neig_colors)]\n",
    "\n",
    "        \n",
    "        # update the bag of colors\n",
    "        for v in G.nodes:\n",
    "            for u in G.nodes:\n",
    "                if C[v][u] in bag_of_colors.keys():\n",
    "                    bag_of_colors[ C[v][u] ] += 1\n",
    "                else:\n",
    "                    bag_of_colors[ C[v][u] ] = 1\n",
    "        \n",
    "    size = max(bag_of_colors.keys())\n",
    "    bag_of_colors_list = [0] * (size + 1)\n",
    "\n",
    "    for c in bag_of_colors.keys():\n",
    "        bag_of_colors_list[c] = bag_of_colors[c]\n",
    "    \n",
    "    return bag_of_colors_list"
   ]
  },
  {
   "cell_type": "markdown",
   "id": "73280c63",
   "metadata": {},
   "source": [
    "### Create the graphs"
   ]
  },
  {
   "cell_type": "code",
   "execution_count": 7,
   "id": "7a629146",
   "metadata": {},
   "outputs": [],
   "source": [
    "list_of_graphs = []\n",
    "for edges in graphs:\n",
    "    list_of_graphs.append(to_networkx(edges))"
   ]
  },
  {
   "cell_type": "markdown",
   "id": "f4175d85",
   "metadata": {},
   "source": [
    "### Create the feature vectors"
   ]
  },
  {
   "cell_type": "code",
   "execution_count": 8,
   "id": "09ae07b5",
   "metadata": {},
   "outputs": [],
   "source": [
    "x = []\n",
    "for g in list_of_graphs:\n",
    "    x.append(weisfeiler_lehman(g))"
   ]
  },
  {
   "cell_type": "markdown",
   "id": "fa501893",
   "metadata": {},
   "source": [
    "### Complete the vectors with zeros and convert it to a numpy array"
   ]
  },
  {
   "cell_type": "code",
   "execution_count": 9,
   "id": "faad7fb0",
   "metadata": {},
   "outputs": [
    {
     "data": {
      "text/plain": [
       "(150, 23)"
      ]
     },
     "execution_count": 9,
     "metadata": {},
     "output_type": "execute_result"
    }
   ],
   "source": [
    "number_of_features = 0\n",
    "\n",
    "for i in range(len(x)):\n",
    "    if number_of_features < len(x[i]):\n",
    "        number_of_features = len(x[i])\n",
    "        \n",
    "for i in range(len(x)):\n",
    "    while len(x[i]) < number_of_features:\n",
    "        x[i].append(0)\n",
    "x = np.array(x)\n",
    "x.shape"
   ]
  },
  {
   "cell_type": "markdown",
   "id": "f47b3bf0",
   "metadata": {},
   "source": [
    "### Split the data in train, validation and test"
   ]
  },
  {
   "cell_type": "code",
   "execution_count": 10,
   "id": "f83feb48",
   "metadata": {},
   "outputs": [
    {
     "name": "stdout",
     "output_type": "stream",
     "text": [
      "x_train = (90, 23)  |  y_train = (90,)\n",
      "x_val   = (30, 23)  |  y_val   = (30,)\n",
      "x_test  = (30, 23)  |  y_test  = (30,)\n"
     ]
    }
   ],
   "source": [
    "train_ratio = 0.60\n",
    "validation_ratio = 0.20\n",
    "test_ratio = 0.20\n",
    "\n",
    "x_train, x_test, y_train, y_test = train_test_split(x, y, test_size = 1 - train_ratio, random_state = 7)\n",
    "x_val, x_test, y_val, y_test = train_test_split(x_test, y_test, test_size = test_ratio / (test_ratio + validation_ratio), random_state = 7) \n",
    "\n",
    "print('x_train =', x_train.shape, ' |  y_train =', y_train.shape)\n",
    "print('x_val   =', x_val.shape, ' |  y_val   =', y_val.shape)\n",
    "print('x_test  =', x_test.shape, ' |  y_test  =', y_test.shape)"
   ]
  },
  {
   "cell_type": "markdown",
   "id": "6844b24f",
   "metadata": {},
   "source": [
    "### Tranning Process with SVM"
   ]
  },
  {
   "cell_type": "code",
   "execution_count": 11,
   "id": "ab165ee2",
   "metadata": {},
   "outputs": [
    {
     "name": "stdout",
     "output_type": "stream",
     "text": [
      "(90, 23)\n",
      "time =   0.0024890899658203125\n"
     ]
    }
   ],
   "source": [
    "start_time_pr = time.time()\n",
    "\n",
    "print(x_train.shape)\n",
    "\n",
    "clf = svm.SVC()\n",
    "clf.fit(x_train, y_train)\n",
    "\n",
    "time_svm = time.time() - start_time_pr\n",
    "\n",
    "print(\"time =  \", time_svm)"
   ]
  },
  {
   "cell_type": "markdown",
   "id": "c14dc659",
   "metadata": {},
   "source": [
    "### A method to show the avaliated metrics"
   ]
  },
  {
   "cell_type": "code",
   "execution_count": 12,
   "id": "61970e0f",
   "metadata": {},
   "outputs": [],
   "source": [
    "def evaluated_metrics(y_true, y_pred):\n",
    "    print(\"Accuracy = \", accuracy_score(y_true=y_true, y_pred=y_pred) * 100, \"%\")\n",
    "    print(\"Precision = \", precision_score(y_true=y_true, y_pred=y_pred, average='weighted', zero_division=1) * 100, \"%\")\n",
    "    cm = confusion_matrix(y_true=y_true, y_pred=y_pred)\n",
    "    disp = ConfusionMatrixDisplay(confusion_matrix=cm, display_labels=clf.classes_)\n",
    "    disp.plot()"
   ]
  },
  {
   "cell_type": "markdown",
   "id": "37224762",
   "metadata": {},
   "source": [
    "### Validation process"
   ]
  },
  {
   "cell_type": "code",
   "execution_count": 13,
   "id": "8f322de6",
   "metadata": {},
   "outputs": [
    {
     "name": "stdout",
     "output_type": "stream",
     "text": [
      "Accuracy =  83.33333333333334 %\n",
      "Precision =  93.75 %\n"
     ]
    },
    {
     "data": {
      "image/png": "[encoded data removed]",
      "text/plain": [
       "<Figure size 432x288 with 2 Axes>"
      ]
     },
     "metadata": {
      "needs_background": "light"
     },
     "output_type": "display_data"
    }
   ],
   "source": [
    "y_pred = clf.predict(x_val)\n",
    "evaluated_metrics(y_val, y_pred)"
   ]
  },
  {
   "cell_type": "markdown",
   "id": "8f7d8fae",
   "metadata": {},
   "source": [
    "### Test process"
   ]
  },
  {
   "cell_type": "code",
   "execution_count": 14,
   "id": "ff9dbf0e",
   "metadata": {},
   "outputs": [
    {
     "name": "stdout",
     "output_type": "stream",
     "text": [
      "Accuracy =  96.66666666666667 %\n",
      "Precision =  97.77777777777777 %\n"
     ]
    },
    {
     "data": {
      "image/png": "[encoded data removed]",
      "text/plain": [
       "<Figure size 432x288 with 2 Axes>"
      ]
     },
     "metadata": {
      "needs_background": "light"
     },
     "output_type": "display_data"
    }
   ],
   "source": [
    "y_pred = clf.predict(x_test)\n",
    "evaluated_metrics(y_test, y_pred)"
   ]
  }
 ],
 "metadata": {
  "kernelspec": {
   "display_name": "Python 3 (ipykernel)",
   "language": "python",
   "name": "python3"
  },
  "language_info": {
   "codemirror_mode": {
    "name": "ipython",
    "version": 3
   },
   "file_extension": ".py",
   "mimetype": "text/x-python",
   "name": "python",
   "nbconvert_exporter": "python",
   "pygments_lexer": "ipython3",
   "version": "3.9.5"
  }
 },
 "nbformat": 4,
 "nbformat_minor": 5
}
